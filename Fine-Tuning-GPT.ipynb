{
 "cells": [
  {
   "cell_type": "code",
   "execution_count": 15,
   "id": "9864622d-4745-4fed-8837-476ceea3c93f",
   "metadata": {},
   "outputs": [
    {
     "name": "stdout",
     "output_type": "stream",
     "text": [
      "Requirement already satisfied: openai in c:\\users\\varun\\anaconda3\\lib\\site-packages (1.108.2)\n",
      "Requirement already satisfied: anyio<5,>=3.5.0 in c:\\users\\varun\\anaconda3\\lib\\site-packages (from openai) (4.7.0)\n",
      "Requirement already satisfied: distro<2,>=1.7.0 in c:\\users\\varun\\anaconda3\\lib\\site-packages (from openai) (1.9.0)\n",
      "Requirement already satisfied: httpx<1,>=0.23.0 in c:\\users\\varun\\anaconda3\\lib\\site-packages (from openai) (0.28.1)\n",
      "Requirement already satisfied: jiter<1,>=0.4.0 in c:\\users\\varun\\anaconda3\\lib\\site-packages (from openai) (0.11.0)\n",
      "Requirement already satisfied: pydantic<3,>=1.9.0 in c:\\users\\varun\\anaconda3\\lib\\site-packages (from openai) (2.10.3)\n",
      "Requirement already satisfied: sniffio in c:\\users\\varun\\anaconda3\\lib\\site-packages (from openai) (1.3.0)\n",
      "Requirement already satisfied: tqdm>4 in c:\\users\\varun\\anaconda3\\lib\\site-packages (from openai) (4.67.1)\n",
      "Requirement already satisfied: typing-extensions<5,>=4.11 in c:\\users\\varun\\anaconda3\\lib\\site-packages (from openai) (4.12.2)\n",
      "Requirement already satisfied: idna>=2.8 in c:\\users\\varun\\anaconda3\\lib\\site-packages (from anyio<5,>=3.5.0->openai) (3.7)\n",
      "Requirement already satisfied: certifi in c:\\users\\varun\\anaconda3\\lib\\site-packages (from httpx<1,>=0.23.0->openai) (2025.7.14)\n",
      "Requirement already satisfied: httpcore==1.* in c:\\users\\varun\\anaconda3\\lib\\site-packages (from httpx<1,>=0.23.0->openai) (1.0.9)\n",
      "Requirement already satisfied: h11>=0.16 in c:\\users\\varun\\anaconda3\\lib\\site-packages (from httpcore==1.*->httpx<1,>=0.23.0->openai) (0.16.0)\n",
      "Requirement already satisfied: annotated-types>=0.6.0 in c:\\users\\varun\\anaconda3\\lib\\site-packages (from pydantic<3,>=1.9.0->openai) (0.6.0)\n",
      "Requirement already satisfied: pydantic-core==2.27.1 in c:\\users\\varun\\anaconda3\\lib\\site-packages (from pydantic<3,>=1.9.0->openai) (2.27.1)\n",
      "Requirement already satisfied: colorama in c:\\users\\varun\\anaconda3\\lib\\site-packages (from tqdm>4->openai) (0.4.6)\n"
     ]
    }
   ],
   "source": [
    "!pip install openai"
   ]
  },
  {
   "cell_type": "markdown",
   "id": "97bed90f-b002-472b-8f26-a34292e0134a",
   "metadata": {},
   "source": [
    "Settimg up the API Token"
   ]
  },
  {
   "cell_type": "code",
   "execution_count": 16,
   "id": "21c9ec89-a906-4921-8e47-2bb03676f706",
   "metadata": {},
   "outputs": [],
   "source": [
    "import os\n",
    "\n",
    "\n",
    "# Set the OPENAI_API_KEY environment variable\n",
    "os.environ['OPENAI_API_KEY'] = 'your_api_key'"
   ]
  },
  {
   "cell_type": "markdown",
   "id": "e83482cd-76d1-41a1-98fa-a1a3030aca0a",
   "metadata": {},
   "source": [
    "Creating sample data and saving it in the jsonl format"
   ]
  },
  {
   "cell_type": "code",
   "execution_count": 17,
   "id": "d9e61ecb-7b9e-4fb9-a4c4-1ab291025ce4",
   "metadata": {},
   "outputs": [
    {
     "name": "stdout",
     "output_type": "stream",
     "text": [
      "Data successfully saved to C:\\Users\\VARUN\\Downloads\\conversations.jsonl\n",
      "File uploaded successfully. File ID: file-1xUSPK2bhyx4oGvjM1GkLK\n",
      "You can use this File ID for creating a fine-tuning job.\n"
     ]
    }
   ],
   "source": [
    "# The code you provided already creates the file correctly\n",
    "# Here's how to save it and upload it to OpenAI:\n",
    "\n",
    "import json\n",
    "from openai import OpenAI\n",
    "import os\n",
    "\n",
    "# 1. First, create the JSONL file (your existing code)\n",
    "data = [\n",
    "    {\n",
    "        \"messages\": [\n",
    "            {\"role\": \"system\", \"content\": \"You are teaching assistant for Machine Learning. You should help to user to answer on his question.\"},\n",
    "            {\"role\": \"user\", \"content\": \"What is machine learning?\"},\n",
    "            {\"role\": \"assistant\", \"content\": \"'Tis but the art of teaching machines to think, to learn from data most fine, and decisions to link.\"}\n",
    "        ]\n",
    "    },\n",
    "    {\n",
    "        \"messages\": [\n",
    "            {\"role\": \"system\", \"content\": \"You are teaching assistant for Machine Learning. You should help to user to answer on his question.\"},\n",
    "            {\"role\": \"user\", \"content\": \"How doth neural networks work?\"},\n",
    "            {\"role\": \"assistant\", \"content\": \"They're like the brains of yon digital beast, with layers many, and nodes that cease.\"}\n",
    "        ]\n",
    "    }\n",
    "]\n",
    "\n",
    "# Save the data as JSONL to a specific location on your laptop\n",
    "file_path = os.path.join(os.path.expanduser(\"~\"), \"Downloads\", \"conversations.jsonl\")\n",
    "# You can change the path above to any location you prefer\n",
    "\n",
    "with open(file_path, 'w', encoding='utf-8') as f:\n",
    "    for item in data:\n",
    "        f.write(json.dumps(item) + '\\n')\n",
    "\n",
    "print(f\"Data successfully saved to {file_path}\")\n",
    "\n",
    "# 2. Upload the file to OpenAI (requires API key)\n",
    "# Set your API key - replace with your actual API key or set as environment variable\n",
    "# os.environ[\"OPENAI_API_KEY\"] = \"your-api-key\"\n",
    "\n",
    "client = OpenAI()  # This will use the API key from environment variables\n",
    "\n",
    "# Upload the file\n",
    "with open(file_path, \"rb\") as file:\n",
    "    response = client.files.create(\n",
    "        file=file,\n",
    "        purpose=\"fine-tune\"\n",
    "    )\n",
    "\n",
    "print(f\"File uploaded successfully. File ID: {response.id}\")\n",
    "print(\"You can use this File ID for creating a fine-tuning job.\")"
   ]
  },
  {
   "cell_type": "markdown",
   "id": "884dcc9e-1c6b-4a5e-a70f-7388946b68f2",
   "metadata": {},
   "source": [
    "Upload the sample (training) data file"
   ]
  },
  {
   "cell_type": "code",
   "execution_count": 18,
   "id": "ca940051-6195-4d8e-b0ac-4e2cdbb3b357",
   "metadata": {},
   "outputs": [
    {
     "data": {
      "text/plain": [
       "FileObject(id='file-QknmiHQo26HAR3KbvGKNqZ', bytes=682, created_at=1758699521, filename='conversations.jsonl', object='file', purpose='fine-tune', status='processed', expires_at=None, status_details=None)"
      ]
     },
     "execution_count": 18,
     "metadata": {},
     "output_type": "execute_result"
    }
   ],
   "source": [
    "from openai import OpenAI\n",
    "client = OpenAI()\n",
    "\n",
    "\n",
    "client.files.create(\n",
    "  file=open(\"conversations.jsonl\", \"rb\"),\n",
    "  purpose=\"fine-tune\"\n",
    ")"
   ]
  },
  {
   "cell_type": "markdown",
   "id": "10cb37fa-d8e4-41f2-9993-a42d50b9ec4e",
   "metadata": {},
   "source": [
    "Create a fine-tuned model"
   ]
  },
  {
   "cell_type": "code",
   "execution_count": null,
   "id": "8ca078c3-7961-49f1-b5cd-a2c466c3c81a",
   "metadata": {},
   "outputs": [],
   "source": [
    "from openai import OpenAI\n",
    "client = OpenAI()\n",
    "\n",
    "\n",
    "client.fine_tuning.jobs.create(\n",
    "  training_file=\"file-QknmiHQo26HAR3KbvGKNqZ\",\n",
    "  model=\"gpt-3.5-turbo\" #change to gpt-4-0613 if you have access\n",
    ")\n"
   ]
  },
  {
   "cell_type": "code",
   "execution_count": null,
   "id": "2cb22a1a-c406-4639-a286-c3aa4f4e9ff0",
   "metadata": {},
   "outputs": [],
   "source": [
    "from openai import OpenAI\n",
    "client = OpenAI()\n",
    "\n",
    "\n",
    "# List 10 fine-tuning jobs\n",
    "client.fine_tuning.jobs.list(limit=10)\n",
    "\n",
    "\n",
    "# Retrieve the state of a fine-tune\n",
    "client.fine_tuning.jobs.retrieve(\"...\")\n",
    "\n",
    "\n",
    "# Cancel a job\n",
    "client.fine_tuning.jobs.cancel(\"...\")\n",
    "\n",
    "\n",
    "# List up to 10 events from a fine-tuning job\n",
    "client.fine_tuning.jobs.list_events(fine_tuning_job_id=\"...\", limit=10)\n",
    "\n",
    "\n",
    "# Delete a fine-tuned model (must be an owner of the org the model was created in)\n",
    "client.models.delete(\"ft:gpt-3.5-turbo:xxx:xxx\")\\"
   ]
  },
  {
   "cell_type": "markdown",
   "id": "c5452636-a0e8-4789-9b34-686af1086359",
   "metadata": {},
   "source": [
    "Analyze fine-tuned model"
   ]
  },
  {
   "cell_type": "code",
   "execution_count": null,
   "id": "09a03389-62d1-43a2-beee-0129d0b5bd70",
   "metadata": {},
   "outputs": [],
   "source": [
    "Results\n",
    "{\n",
    "    \"object\": \"fine_tuning.job.event\",\n",
    "    \"id\": \"file-QknmiHQo26HAR3KbvGKNqZ\",\n",
    "    \"created_at\":1758699521 ,\n",
    "    \"level\": \"info\",\n",
    "    \"message\": \"Step 100/100: training loss=0.00\",\n",
    "    \"data\": {\n",
    "        \"step\": 100,\n",
    "        \"train_loss\": 1.805623287509661e-5,\n",
    "        \"train_mean_token_accuracy\": 1.0\n",
    "    },\n",
    "    \"type\": \"metrics\"\n",
    "}\n"
   ]
  },
  {
   "cell_type": "markdown",
   "id": "0f538f5f-dc34-4849-8cc9-d849b51c7fdc",
   "metadata": {},
   "source": [
    "Using the fine-tuned model"
   ]
  },
  {
   "cell_type": "code",
   "execution_count": null,
   "id": "51ebbd70-d2cc-4036-97f2-e84b3c4a95fa",
   "metadata": {},
   "outputs": [],
   "source": [
    "from openai import OpenAI\n",
    "client = OpenAI()\n",
    "\n",
    "\n",
    "completion = client.chat.completions.create(\n",
    "  model=\"ft:gpt-3.5-turbo-0613:personal::8k01tfYd\",\n",
    "  messages=[\n",
    "    {\"role\": \"system\", \"content\": \"You are a teaching assistant for Machine Learning. You should help to user to answer on his question.\"},\n",
    "    {\"role\": \"user\", \"content\": \"What is a loss function?\"}\n",
    "  ]\n",
    ")\n",
    "print(completion.choices[0].message)"
   ]
  }
 ],
 "metadata": {
  "kernelspec": {
   "display_name": "Python [conda env:base] *",
   "language": "python",
   "name": "conda-base-py"
  },
  "language_info": {
   "codemirror_mode": {
    "name": "ipython",
    "version": 3
   },
   "file_extension": ".py",
   "mimetype": "text/x-python",
   "name": "python",
   "nbconvert_exporter": "python",
   "pygments_lexer": "ipython3",
   "version": "3.13.5"
  }
 },
 "nbformat": 4,
 "nbformat_minor": 5
}
